{
 "cells": [
  {
   "cell_type": "code",
   "execution_count": 49,
   "id": "9f02a975",
   "metadata": {},
   "outputs": [
    {
     "name": "stderr",
     "output_type": "stream",
     "text": [
      "[nltk_data] Downloading package stopwords to\n",
      "[nltk_data]     /Users/rezwanrahman/nltk_data...\n",
      "[nltk_data]   Package stopwords is already up-to-date!\n",
      "[nltk_data] Downloading package punkt to\n",
      "[nltk_data]     /Users/rezwanrahman/nltk_data...\n",
      "[nltk_data]   Package punkt is already up-to-date!\n"
     ]
    }
   ],
   "source": [
    "#use necessary libraries\n",
    "import nltk\n",
    "from nltk.tokenize import RegexpTokenizer\n",
    "nltk.download('stopwords')\n",
    "nltk.download('punkt')\n",
    "from nltk.corpus import stopwords\n",
    "stopwords = nltk.corpus.stopwords.words(\"english\")\n",
    "import string\n",
    "from urllib.request import urlopen\n",
    "from bs4 import BeautifulSoup\n",
    "import requests"
   ]
  },
  {
   "cell_type": "code",
   "execution_count": 38,
   "id": "d6399194",
   "metadata": {
    "scrolled": true
   },
   "outputs": [
    {
     "name": "stdout",
     "output_type": "stream",
     "text": [
      "\n",
      "\n",
      "\n",
      "\n",
      "\n",
      "\n",
      "\n",
      "\n",
      "\n",
      "\n",
      "Chelsea vs. Borussia Dortmund - Football Match Report - March 7, 2023 - ESPN\n",
      "\n",
      "\n",
      "\n",
      "\n",
      "\n",
      "\n",
      "\n",
      "\n",
      "\n",
      "\n",
      "\n",
      "\n",
      "\n",
      "\n",
      "\n",
      "\n",
      "\n",
      "\n",
      "\n",
      "\n",
      "\n",
      "\n",
      "\n",
      "\n",
      "\n",
      "\n",
      "\n",
      "\n",
      "\n",
      "\n",
      "\n",
      "\n",
      "\n",
      "\n",
      "\n",
      "\n",
      "\n",
      "\n",
      "\n",
      "\n",
      "\n",
      "\n",
      "\n",
      "\n",
      "\n",
      "\n",
      "\n",
      "\n",
      "\n",
      "\n",
      "\n",
      "\n",
      "\n",
      "\n",
      "\n",
      "\n",
      "\n",
      "\n",
      "\n",
      "\n",
      "\n",
      "\n",
      "\n",
      "\n",
      "\n",
      "\n",
      "\n",
      "\n",
      "\n",
      "\n",
      "\n",
      "\n",
      "\n",
      "\n",
      "\n",
      "\n",
      "\n",
      "\n",
      "\n",
      "\n",
      "\n",
      "\n",
      "\n",
      "\n",
      "\n",
      "\n",
      "\n",
      "\n",
      "\n",
      "\n",
      "        Skip to main content\n",
      "    \n",
      "\n",
      "        Skip to navigation\n",
      "    \n",
      "\n",
      "\n",
      "\n",
      "\n",
      "\n",
      "\n",
      "\n",
      "\n",
      "\n",
      "\n",
      "\n",
      "\n",
      "\n",
      "\n",
      "\n",
      "\n",
      "\n",
      "\n",
      "\n",
      "\n",
      "\n",
      "\n",
      "\n",
      "\n",
      "\n",
      "\n",
      "\n",
      "\n",
      "\n",
      "\n",
      "\n",
      "\n",
      "\n",
      "<\n",
      "\n",
      ">\n",
      "\n",
      "\n",
      "\n",
      "\n",
      "\n",
      "\n",
      "\n",
      "\n",
      "\n",
      "MenuESPN\n",
      "\n",
      "\n",
      "Search\n",
      "\n",
      "\n",
      "\n",
      "scores\n",
      "\n",
      "\n",
      "\n",
      "NFLNBANCAAMNCAAWNHLSoccer…MLBNCAAFGolfTennisSports BettingBoxingCFLNCAACricketF1HorseLLWSMMANASCARNBA G LeagueOlympic SportsRacingRN BBRN FBRugbyWNBAWorld Baseball ClassicWWEX GamesXFLMore ESPNFantasyListenWatchESPN+\n",
      "\n",
      "\n",
      "\n",
      "\n",
      "\n",
      "\n",
      "\n",
      "\n",
      "\n",
      "\n",
      "\n",
      "\n",
      "                    2022-23 UEFA Champions League, Round of 16\n",
      "                \n",
      "\n",
      "\n",
      "\n",
      "\n",
      "\n",
      "\n",
      "\n",
      "\n",
      "\n",
      "\n",
      "\n",
      "\n",
      "Chelsea\n",
      "Chelsea\n",
      "CHE\n",
      "\n",
      "\n",
      "\n",
      "\n",
      "\n",
      "\n",
      "\n",
      "\n",
      "\n",
      "\n",
      "\n",
      "\t\t\t\t\t\t\n",
      "\t\t\t\t\t\t\t2\n",
      "\t\t\t\t\t\t\n",
      "\t\t\t\t\t\n",
      "\n",
      "\n",
      "\n",
      "\n",
      "FT\n",
      "Agg. 2–1\n",
      "\n",
      "\n",
      "\n",
      "\n",
      "\n",
      "\n",
      "\t\t\t\t\t\t\n",
      "\t\t\t\t\t\t\t0\n",
      "\t\t\t\t\t\t\n",
      "\t\t\t\t\t\n",
      "\n",
      "\n",
      "\n",
      "\n",
      "\n",
      "\n",
      "\n",
      "\n",
      "\n",
      "\n",
      "\n",
      "\n",
      "\n",
      "\n",
      "\n",
      "Borussia Dortmund\n",
      "Borussia Dortmund\n",
      "DOR\n",
      "\n",
      "\n",
      "\n",
      "\n",
      "\n",
      "\n",
      "\n",
      "\n",
      "\n",
      "\n",
      "\n",
      "\n",
      "\n",
      "\n",
      "\n",
      "\t\t            \tRaheem Sterling\n",
      "\t\t            \t(43')\n",
      "\n",
      "\n",
      "\t\t            \tKai Havertz\n",
      "\t\t            \t(53' PEN)\n",
      "\n",
      "\n",
      "\n",
      "\n",
      "\n",
      "\n",
      "\n",
      "\n",
      "\n",
      "\n",
      "\n",
      "\n",
      "2nd Leg - Chelsea advance 2-1 on aggregate\n",
      "2nd Leg - Chelsea advance 2-1 on aggregate\n",
      "\n",
      "\n",
      "\n",
      "\n",
      "\n",
      "\n",
      "\n",
      "SummaryReportCommentaryStatisticsLine-UpsVideos\n",
      "\n",
      "\n",
      "\n",
      "\n",
      "\n",
      "\n",
      "\n",
      "\n",
      "\n",
      "\n",
      "\n",
      "\n",
      "\n",
      "\n",
      "\n",
      "Chelsea beat Borussia Dortmund to reach Champions League quarterfinalsplayLeboeuf: Kai Havertz impressive on Chelsea's penalty retake (1:21)Frank Leboeuf explains why Kai Havertz's composure impressed him vs. Borussia Dortmund. (edited) (1:21)FacebookTwitterFacebook MessengerEmailMar 7, 2023ESPNFacebookTwitterFacebook MessengerPinterestEmailChelsea overturned their first-leg deficit with a 2-0 win over Borussia Dortmund at Stamford Bridge on Tuesday night to reach the Champions League quarterfinals.Raheem Sterling smashed home a volley from the top of the 6-yard box just before half-time and Kai Havertz scored from the penalty spot early in the second half to send Graham Potter's struggling Chelsea past Dortmund in the round of 16.- Olley: Chelsea's win over Dortmund could be Potter's turning point\n",
      "- Stream on ESPN+: LaLiga, Bundesliga, more (U.S.)Chelsea, who came into the match trailing 1-0 after the first leg and having scored just once in their past four games, had multiple chances go begging in the opening 45 minutes, with Havertz hitting the post before the half-hour and then having a beautiful strike ruled out soon after for offside in the buildup.Portugal loanee Joao Felix and defender Kalidou Koulibaly also went close and Sterling had efforts blocked, but in the 43rd minute Ben Chilwell crossed into the box and found his England teammate who opened the scoring with a close-range volley.\"It was a massive performance,\" Sterling told BT Sport. \"We had to dig deep. We took our chances. We felt as a team we could do it. I had a little miskick with the first touch, but it landed perfectly and allowed us to build on that for our performance.\"United States international Giovanni Reyna came on shortly after kickoff of the first half after Julien Brandt pulled up injured, as a lively Dortmund went into the break trailing Chelsea 1-0.Brandt, who reached for his hamstring before asking to be subbed off, had been instrumental in Dortmund's run of 10 straight wins in all competitions -- which came to an end on Tuesday -- and has scored nine goals so far this season for Marco Rose's side.Chelsea players celebrate after scoring a goal against Borussia Dortmund in the Champions League. Getty ImagesHavertz doubled Chelsea's lead from the spot, but needed two chances to do it. The Germany international bounced his first penalty off the post, but Dortmund was called for encroachment and Havertz stepped up and buried his second try to put Chelsea up 2-0 on the night.\"I don't know what I was thinking [when it hit the post], but the referee let me retake the penalty,\" Havertz said. \"I was a bit nervous, but I scored. I tried to wait and look at the keeper and the second one was a bit easier.\"Sterling broke free on goal in the 75th minute and squared to substitute Connor Gallagher for an easy tap-in, but the linesman's flag went up for offside leaving Chelsea clinging to their narrow aggregate lead.Christian Pulisic, who'd been out injured since Jan. 5, was brought on just after 80 minutes for Sterling, while Ruben Loftus-Cheek replaced Mateo Kovacic at the same time as the hosts went on to see out the result.A smiling Potter punched the air and applauded the crowd as his team acknowledged the cheers at their home ground.\"There was a fantastic feeling in the dressing room,\" Potter said. \"We have been through a tough period and this competition means a lot for us. We wanted to progress and get into the last eight and it sets us up for the next few weeks.\"The former Brighton manager added that he had confidence in Havertz to score from the penalty spot, but was too nervous to watch.\"I wasn't watching it but delighted when I heard the roar,\" Potter said. \"Taking penalties is not for me, so I am in awe of anybody [who does].\"Next up for Chelsea is a Premier League match against Leicester City on Saturday, while Dortmund, who are level on points with Bayern Munich atop the Bundesliga, are away to Schalke.\n",
      "FacebookTwitterFacebook MessengerEmail\n",
      "\n",
      "Terms of UsePrivacy PolicyYour US State Privacy RightsChildren's Online Privacy PolicyInterest-Based AdsAbout Nielsen MeasurementDo Not Sell or Share My Personal InformationContact UsDisney Ad Sales SiteWork for ESPNCopyright: © ESPN Enterprises, Inc. All rights reserved.\n",
      "\n",
      "\n",
      "\n",
      "\n",
      "\n",
      "\n",
      "\n",
      "\n",
      "\n",
      "\n",
      "\n",
      "Betting Odds\n",
      "\n",
      "Presented By\n",
      "Bet365\n",
      "\n",
      "\n",
      "\n",
      "\n",
      "\n",
      "\n",
      "Bet365\n",
      "\n",
      "Open Account Offer\n",
      "Bet £10 & Get £50 in Free Bets for new customers at bet365.\n",
      "\n",
      "\n",
      "\n",
      "Join Here\n",
      "\n",
      "\n",
      "\n",
      "Min deposit requirement. Free Bets are paid as Bet Credits and are available for use upon settlement of bets to value of qualifying deposit. Min odds, bet and payment method exclusions apply. Returns exclude Bet Credits stake. Time limits and T&Cs apply. More Details\n",
      "\n",
      "\n",
      "\n",
      "\n",
      "\n",
      "Find More Odds\n",
      "\n",
      "\n",
      "\n",
      "\n",
      "\n",
      "\n",
      "\n",
      "\n",
      "\n",
      "UEFA Champions League News\n",
      "\n",
      "\n",
      "Messi milestone tracker: PSG star nears 800 career goalsMessi's career might have peaked at the World Cup, but he still has plenty of milestones to reach. Here we track his progress and list his records.Champions League quarterfinal reaction: Predictions, lines, stats, moreThe quarterfinal field is set, with Real Madrid facing Chelsea and Man City vs. Bayern Munich. We break down the keys and predict who moves on.Why Real Madrid vs. Chelsea will be a 'fascinating' UCL quarterfinalGab Marcotti and Julien Laurens preview the Champions League quarterfinal between Real Madrid and Chelsea.Champions League holders Real Madrid face Chelsea in quarterfinals; Man City vs. BayernHolders Real Madrid have been drawn to face Chelsea in the Champions League quarterfinals, while Manchester City will play Bayern Munich.Champions League quarterfinal draw live updates: Eight remaining teams learn their fateAnd then there were eight! Friday morning sees the drawing for the UEFA Champions League quarterfinals. Follow all the action here.Champions League talking points: Does five-goal Haaland make Man City favourites? Is VAR getting worse?With this season's Champions League quarterfinalists now set, our writers answer some of the big questions arising from the round-of-16 second legs.\n",
      "\n",
      "\n",
      "\n",
      "                   All soccer News\n",
      "                \n",
      "\n",
      "\n",
      "\n",
      "\n",
      "\n",
      "\n",
      "\n",
      "\n",
      "\n",
      "\n",
      "\n",
      "\n",
      "\n",
      "\n",
      "\n",
      "\n",
      "\n",
      "\n",
      "\n",
      "\n",
      "\n",
      "\n",
      "\n",
      "\n",
      "\n"
     ]
    }
   ],
   "source": [
    "url = \"https://www.espn.com/soccer/report/_/gameId/656861\"\n",
    "html = urlopen(url).read()\n",
    "soup = BeautifulSoup(html, features=\"html.parser\")\n",
    "\n",
    "for script in soup([\"script\", \"style\"]):\n",
    "    script.extract()    # rip it out\n",
    "\n",
    "# get text\n",
    "text = soup.get_text()\n",
    "print(text)\n",
    "\n",
    "lines = (line.strip() for line in text.splitlines())\n",
    "\n",
    "chunks = (phrase.strip() for line in lines for phrase in line.split(\"  \"))\n",
    "# drop blank lines\n",
    "text = '\\n'.join(chunk for chunk in chunks if chunk)\n"
   ]
  },
  {
   "cell_type": "code",
   "execution_count": 50,
   "id": "9d421b03",
   "metadata": {
    "scrolled": true
   },
   "outputs": [
    {
     "name": "stdout",
     "output_type": "stream",
     "text": [
      "Chelsea vs. Borussia Dortmund - Football Match Report - March 7, 2023 - ESPN\n",
      "Skip to main content\n",
      "Skip to navigation\n",
      "<\n",
      ">\n",
      "MenuESPN\n",
      "Search\n",
      "scores\n",
      "NFLNBANCAAMNCAAWNHLSoccer…MLBNCAAFGolfTennisSports BettingBoxingCFLNCAACricketF1HorseLLWSMMANASCARNBA G LeagueOlympic SportsRacingRN BBRN FBRugbyWNBAWorld Baseball ClassicWWEX GamesXFLMore ESPNFantasyListenWatchESPN+\n",
      "2022-23 UEFA Champions League, Round of 16\n",
      "Chelsea\n",
      "Chelsea\n",
      "CHE\n",
      "2\n",
      "FT\n",
      "Agg. 2–1\n",
      "0\n",
      "Borussia Dortmund\n",
      "Borussia Dortmund\n",
      "DOR\n",
      "Raheem Sterling\n",
      "(43')\n",
      "Kai Havertz\n",
      "(53' PEN)\n",
      "2nd Leg - Chelsea advance 2-1 on aggregate\n",
      "2nd Leg - Chelsea advance 2-1 on aggregate\n",
      "SummaryReportCommentaryStatisticsLine-UpsVideos\n",
      "Chelsea beat Borussia Dortmund to reach Champions League quarterfinalsplayLeboeuf: Kai Havertz impressive on Chelsea's penalty retake (1:21)Frank Leboeuf explains why Kai Havertz's composure impressed him vs. Borussia Dortmund. (edited) (1:21)FacebookTwitterFacebook MessengerEmailMar 7, 2023ESPNFacebookTwitterFacebook MessengerPinterestEmailChelsea overturned their first-leg deficit with a 2-0 win over Borussia Dortmund at Stamford Bridge on Tuesday night to reach the Champions League quarterfinals.Raheem Sterling smashed home a volley from the top of the 6-yard box just before half-time and Kai Havertz scored from the penalty spot early in the second half to send Graham Potter's struggling Chelsea past Dortmund in the round of 16.- Olley: Chelsea's win over Dortmund could be Potter's turning point\n",
      "- Stream on ESPN+: LaLiga, Bundesliga, more (U.S.)Chelsea, who came into the match trailing 1-0 after the first leg and having scored just once in their past four games, had multiple chances go begging in the opening 45 minutes, with Havertz hitting the post before the half-hour and then having a beautiful strike ruled out soon after for offside in the buildup.Portugal loanee Joao Felix and defender Kalidou Koulibaly also went close and Sterling had efforts blocked, but in the 43rd minute Ben Chilwell crossed into the box and found his England teammate who opened the scoring with a close-range volley.\"It was a massive performance,\" Sterling told BT Sport. \"We had to dig deep. We took our chances. We felt as a team we could do it. I had a little miskick with the first touch, but it landed perfectly and allowed us to build on that for our performance.\"United States international Giovanni Reyna came on shortly after kickoff of the first half after Julien Brandt pulled up injured, as a lively Dortmund went into the break trailing Chelsea 1-0.Brandt, who reached for his hamstring before asking to be subbed off, had been instrumental in Dortmund's run of 10 straight wins in all competitions -- which came to an end on Tuesday -- and has scored nine goals so far this season for Marco Rose's side.Chelsea players celebrate after scoring a goal against Borussia Dortmund in the Champions League. Getty ImagesHavertz doubled Chelsea's lead from the spot, but needed two chances to do it. The Germany international bounced his first penalty off the post, but Dortmund was called for encroachment and Havertz stepped up and buried his second try to put Chelsea up 2-0 on the night.\"I don't know what I was thinking [when it hit the post], but the referee let me retake the penalty,\" Havertz said. \"I was a bit nervous, but I scored. I tried to wait and look at the keeper and the second one was a bit easier.\"Sterling broke free on goal in the 75th minute and squared to substitute Connor Gallagher for an easy tap-in, but the linesman's flag went up for offside leaving Chelsea clinging to their narrow aggregate lead.Christian Pulisic, who'd been out injured since Jan. 5, was brought on just after 80 minutes for Sterling, while Ruben Loftus-Cheek replaced Mateo Kovacic at the same time as the hosts went on to see out the result.A smiling Potter punched the air and applauded the crowd as his team acknowledged the cheers at their home ground.\"There was a fantastic feeling in the dressing room,\" Potter said. \"We have been through a tough period and this competition means a lot for us. We wanted to progress and get into the last eight and it sets us up for the next few weeks.\"The former Brighton manager added that he had confidence in Havertz to score from the penalty spot, but was too nervous to watch.\"I wasn't watching it but delighted when I heard the roar,\" Potter said. \"Taking penalties is not for me, so I am in awe of anybody [who does].\"Next up for Chelsea is a Premier League match against Leicester City on Saturday, while Dortmund, who are level on points with Bayern Munich atop the Bundesliga, are away to Schalke.\n",
      "FacebookTwitterFacebook MessengerEmail\n",
      "\n"
     ]
    }
   ],
   "source": [
    "#Data Preparation\n",
    "#Filter out unnecessary parts of the text\n",
    "import regex as re\n",
    "head, sep, tail = text.partition('Terms of UsePrivacy')\n",
    "stripped = head\n",
    "print(stripped)"
   ]
  },
  {
   "cell_type": "code",
   "execution_count": 42,
   "id": "cf7d8db4",
   "metadata": {
    "scrolled": true
   },
   "outputs": [
    {
     "name": "stdout",
     "output_type": "stream",
     "text": [
      "\n",
      "Chelsea beat Borussia Dortmund to reach Champions League quarterfinalsplayLeboeuf: Kai Havertz impressive on Chelsea's penalty retake (1:21)Frank Leboeuf explains why Kai Havertz's composure impressed him vs. Borussia Dortmund. (edited) (1:21)FacebookTwitterFacebook MessengerEmailMar 7, 2023ESPNFacebookTwitterFacebook MessengerPinterestEmailChelsea overturned their first-leg deficit with a 2-0 win over Borussia Dortmund at Stamford Bridge on Tuesday night to reach the Champions League quarterfinals.Raheem Sterling smashed home a volley from the top of the 6-yard box just before half-time and Kai Havertz scored from the penalty spot early in the second half to send Graham Potter's struggling Chelsea past Dortmund in the round of 16.- Olley: Chelsea's win over Dortmund could be Potter's turning point\n",
      "- Stream on ESPN+: LaLiga, Bundesliga, more (U.S.)Chelsea, who came into the match trailing 1-0 after the first leg and having scored just once in their past four games, had multiple chances go begging in the opening 45 minutes, with Havertz hitting the post before the half-hour and then having a beautiful strike ruled out soon after for offside in the buildup.Portugal loanee Joao Felix and defender Kalidou Koulibaly also went close and Sterling had efforts blocked, but in the 43rd minute Ben Chilwell crossed into the box and found his England teammate who opened the scoring with a close-range volley.\"It was a massive performance,\" Sterling told BT Sport. \"We had to dig deep. We took our chances. We felt as a team we could do it. I had a little miskick with the first touch, but it landed perfectly and allowed us to build on that for our performance.\"United States international Giovanni Reyna came on shortly after kickoff of the first half after Julien Brandt pulled up injured, as a lively Dortmund went into the break trailing Chelsea 1-0.Brandt, who reached for his hamstring before asking to be subbed off, had been instrumental in Dortmund's run of 10 straight wins in all competitions -- which came to an end on Tuesday -- and has scored nine goals so far this season for Marco Rose's side.Chelsea players celebrate after scoring a goal against Borussia Dortmund in the Champions League. Getty ImagesHavertz doubled Chelsea's lead from the spot, but needed two chances to do it. The Germany international bounced his first penalty off the post, but Dortmund was called for encroachment and Havertz stepped up and buried his second try to put Chelsea up 2-0 on the night.\"I don't know what I was thinking [when it hit the post], but the referee let me retake the penalty,\" Havertz said. \"I was a bit nervous, but I scored. I tried to wait and look at the keeper and the second one was a bit easier.\"Sterling broke free on goal in the 75th minute and squared to substitute Connor Gallagher for an easy tap-in, but the linesman's flag went up for offside leaving Chelsea clinging to their narrow aggregate lead.Christian Pulisic, who'd been out injured since Jan. 5, was brought on just after 80 minutes for Sterling, while Ruben Loftus-Cheek replaced Mateo Kovacic at the same time as the hosts went on to see out the result.A smiling Potter punched the air and applauded the crowd as his team acknowledged the cheers at their home ground.\"There was a fantastic feeling in the dressing room,\" Potter said. \"We have been through a tough period and this competition means a lot for us. We wanted to progress and get into the last eight and it sets us up for the next few weeks.\"The former Brighton manager added that he had confidence in Havertz to score from the penalty spot, but was too nervous to watch.\"I wasn't watching it but delighted when I heard the roar,\" Potter said. \"Taking penalties is not for me, so I am in awe of anybody [who does].\"Next up for Chelsea is a Premier League match against Leicester City on Saturday, while Dortmund, who are level on points with Bayern Munich atop the Bundesliga, are away to Schalke.\n",
      "FacebookTwitterFacebook MessengerEmail\n",
      "\n"
     ]
    }
   ],
   "source": [
    "#Data Preparation: Filter out more unnecessary part of text\n",
    "#There are some unnecessary parts, but this is enough for us to work with\n",
    "head, sep, tail = stripped.partition('SummaryReportCommentaryStatisticsLine-UpsVideos')\n",
    "Baseline_text = tail\n",
    "print(Baseline_text)"
   ]
  },
  {
   "cell_type": "code",
   "execution_count": 61,
   "id": "0cd33e87",
   "metadata": {},
   "outputs": [
    {
     "data": {
      "text/plain": [
       "'\\nchelsea beat borussia dortmund to reach champions league quarterfinalsplayleboeuf: kai havertz impressive on chelsea\\'s penalty retake (1:21)frank leboeuf explains why kai havertz\\'s composure impressed him vs. borussia dortmund. (edited) (1:21)facebooktwitterfacebook messengeremailmar 7, 2023espnfacebooktwitterfacebook messengerpinterestemailchelsea overturned their first-leg deficit with a 2-0 win over borussia dortmund at stamford bridge on tuesday night to reach the champions league quarterfinals.raheem sterling smashed home a volley from the top of the 6-yard box just before half-time and kai havertz scored from the penalty spot early in the second half to send graham potter\\'s struggling chelsea past dortmund in the round of 16.- olley: chelsea\\'s win over dortmund could be potter\\'s turning point\\n- stream on espn+: laliga, bundesliga, more (u.s.)chelsea, who came into the match trailing 1-0 after the first leg and having scored just once in their past four games, had multiple chances go begging in the opening 45 minutes, with havertz hitting the post before the half-hour and then having a beautiful strike ruled out soon after for offside in the buildup.portugal loanee joao felix and defender kalidou koulibaly also went close and sterling had efforts blocked, but in the 43rd minute ben chilwell crossed into the box and found his england teammate who opened the scoring with a close-range volley.\"it was a massive performance,\" sterling told bt sport. \"we had to dig deep. we took our chances. we felt as a team we could do it. i had a little miskick with the first touch, but it landed perfectly and allowed us to build on that for our performance.\"united states international giovanni reyna came on shortly after kickoff of the first half after julien brandt pulled up injured, as a lively dortmund went into the break trailing chelsea 1-0.brandt, who reached for his hamstring before asking to be subbed off, had been instrumental in dortmund\\'s run of 10 straight wins in all competitions -- which came to an end on tuesday -- and has scored nine goals so far this season for marco rose\\'s side.chelsea players celebrate after scoring a goal against borussia dortmund in the champions league.\\xa0getty imageshavertz doubled chelsea\\'s lead from the spot, but needed two chances to do it. the germany international bounced his first penalty off the post, but dortmund was called for encroachment and havertz stepped up and buried his second try to put chelsea up 2-0 on the night.\"i don\\'t know what i was thinking [when it hit the post], but the referee let me retake the penalty,\" havertz said. \"i was a bit nervous, but i scored. i tried to wait and look at the keeper and the second one was a bit easier.\"sterling broke free on goal in the 75th minute and squared to substitute connor gallagher for an easy tap-in, but the linesman\\'s flag went up for offside leaving chelsea clinging to their narrow aggregate lead.christian pulisic, who\\'d been out injured since jan. 5, was brought on just after 80 minutes for sterling, while ruben loftus-cheek replaced mateo kovacic at the same time as the hosts went on to see out the result.a smiling potter punched the air and applauded the crowd as his team acknowledged the cheers at their home ground.\"there was a fantastic feeling in the dressing room,\" potter said. \"we have been through a tough period and this competition means a lot for us. we wanted to progress and get into the last eight and it sets us up for the next few weeks.\"the former brighton manager added that he had confidence in havertz to score from the penalty spot, but was too nervous to watch.\"i wasn\\'t watching it but delighted when i heard the roar,\" potter said. \"taking penalties is not for me, so i am in awe of anybody [who does].\"next up for chelsea is a premier league match against leicester city on saturday, while dortmund, who are level on points with bayern munich atop the bundesliga, are away to schalke.\\nfacebooktwitterfacebook messengeremail\\n'"
      ]
     },
     "execution_count": 61,
     "metadata": {},
     "output_type": "execute_result"
    }
   ],
   "source": [
    "#convert text to lowercase\n",
    "baseline_lower = Baseline_text.lower()\n",
    "baseline_lower"
   ]
  },
  {
   "cell_type": "code",
   "execution_count": 63,
   "id": "d185e99a",
   "metadata": {},
   "outputs": [
    {
     "data": {
      "text/plain": [
       "'chelsea beat borussia dortmund to reach champions league quarterfinalsplayleboeuf  kai havertz impressive on chelsea s penalty retake  1 21 frank leboeuf explains why kai havertz s composure impressed him vs  borussia dortmund   edited   1 21 facebooktwitterfacebook messengeremailmar 7  2023espnfacebooktwitterfacebook messengerpinterestemailchelsea overturned their first leg deficit with a 2 0 win over borussia dortmund at stamford bridge on tuesday night to reach the champions league quarterfinals raheem sterling smashed home a volley from the top of the 6 yard box just before half time and kai havertz scored from the penalty spot early in the second half to send graham potter s struggling chelsea past dortmund in the round of 16   olley  chelsea s win over dortmund could be potter s turning point\\n  stream on espn   laliga  bundesliga  more  u s  chelsea  who came into the match trailing 1 0 after the first leg and having scored just once in their past four games  had multiple chances go begging in the opening 45 minutes  with havertz hitting the post before the half hour and then having a beautiful strike ruled out soon after for offside in the buildup portugal loanee joao felix and defender kalidou koulibaly also went close and sterling had efforts blocked  but in the 43rd minute ben chilwell crossed into the box and found his england teammate who opened the scoring with a close range volley  it was a massive performance   sterling told bt sport   we had to dig deep  we took our chances  we felt as a team we could do it  i had a little miskick with the first touch  but it landed perfectly and allowed us to build on that for our performance  united states international giovanni reyna came on shortly after kickoff of the first half after julien brandt pulled up injured  as a lively dortmund went into the break trailing chelsea 1 0 brandt  who reached for his hamstring before asking to be subbed off  had been instrumental in dortmund s run of 10 straight wins in all competitions    which came to an end on tuesday    and has scored nine goals so far this season for marco rose s side chelsea players celebrate after scoring a goal against borussia dortmund in the champions league \\xa0getty imageshavertz doubled chelsea s lead from the spot  but needed two chances to do it  the germany international bounced his first penalty off the post  but dortmund was called for encroachment and havertz stepped up and buried his second try to put chelsea up 2 0 on the night  i don t know what i was thinking  when it hit the post   but the referee let me retake the penalty   havertz said   i was a bit nervous  but i scored  i tried to wait and look at the keeper and the second one was a bit easier  sterling broke free on goal in the 75th minute and squared to substitute connor gallagher for an easy tap in  but the linesman s flag went up for offside leaving chelsea clinging to their narrow aggregate lead christian pulisic  who d been out injured since jan  5  was brought on just after 80 minutes for sterling  while ruben loftus cheek replaced mateo kovacic at the same time as the hosts went on to see out the result a smiling potter punched the air and applauded the crowd as his team acknowledged the cheers at their home ground  there was a fantastic feeling in the dressing room   potter said   we have been through a tough period and this competition means a lot for us  we wanted to progress and get into the last eight and it sets us up for the next few weeks  the former brighton manager added that he had confidence in havertz to score from the penalty spot  but was too nervous to watch  i wasn t watching it but delighted when i heard the roar   potter said   taking penalties is not for me  so i am in awe of anybody  who does   next up for chelsea is a premier league match against leicester city on saturday  while dortmund  who are level on points with bayern munich atop the bundesliga  are away to schalke \\nfacebooktwitterfacebook messengeremail'"
      ]
     },
     "execution_count": 63,
     "metadata": {},
     "output_type": "execute_result"
    }
   ],
   "source": [
    "#remove punctuation from text\n",
    "import string\n",
    "regular_punct = list(string.punctuation)\n",
    "def remove_punctuation(text,punct_list):\n",
    "    for punc in punct_list:\n",
    "        if punc in text:\n",
    "            text = text.replace(punc, ' ')\n",
    "    return text.strip()\n",
    "\n",
    "baseline_punct = remove_punctuation(baseline_lower,regular_punct)\n",
    "baseline_punct"
   ]
  },
  {
   "cell_type": "code",
   "execution_count": 88,
   "id": "ee3deee9",
   "metadata": {
    "scrolled": true
   },
   "outputs": [
    {
     "name": "stdout",
     "output_type": "stream",
     "text": [
      "['chelsea', 'beat', 'borussia', 'dortmund', 'to', 'reach', 'champions', 'league', 'quarterfinalsplayleboeuf', 'kai', 'havertz', 'impressive', 'on', 'chelsea', 's', 'penalty', 'retake', '1', '21', 'frank', 'leboeuf', 'explains', 'why', 'kai', 'havertz', 's', 'composure', 'impressed', 'him', 'vs', 'borussia', 'dortmund', 'edited', '1', '21', 'facebooktwitterfacebook', 'messengeremailmar', '7', '2023espnfacebooktwitterfacebook', 'messengerpinterestemailchelsea', 'overturned', 'their', 'first', 'leg', 'deficit', 'with', 'a', '2', '0', 'win', 'over', 'borussia', 'dortmund', 'at', 'stamford', 'bridge', 'on', 'tuesday', 'night', 'to', 'reach', 'the', 'champions', 'league', 'quarterfinals', 'raheem', 'sterling', 'smashed', 'home', 'a', 'volley', 'from', 'the', 'top', 'of', 'the', '6', 'yard', 'box', 'just', 'before', 'half', 'time', 'and', 'kai', 'havertz', 'scored', 'from', 'the', 'penalty', 'spot', 'early', 'in', 'the', 'second', 'half', 'to', 'send', 'graham', 'potter', 's', 'struggling', 'chelsea', 'past', 'dortmund', 'in', 'the', 'round', 'of', '16', 'olley', 'chelsea', 's', 'win', 'over', 'dortmund', 'could', 'be', 'potter', 's', 'turning', 'point', 'stream', 'on', 'espn', 'laliga', 'bundesliga', 'more', 'u', 's', 'chelsea', 'who', 'came', 'into', 'the', 'match', 'trailing', '1', '0', 'after', 'the', 'first', 'leg', 'and', 'having', 'scored', 'just', 'once', 'in', 'their', 'past', 'four', 'games', 'had', 'multiple', 'chances', 'go', 'begging', 'in', 'the', 'opening', '45', 'minutes', 'with', 'havertz', 'hitting', 'the', 'post', 'before', 'the', 'half', 'hour', 'and', 'then', 'having', 'a', 'beautiful', 'strike', 'ruled', 'out', 'soon', 'after', 'for', 'offside', 'in', 'the', 'buildup', 'portugal', 'loanee', 'joao', 'felix', 'and', 'defender', 'kalidou', 'koulibaly', 'also', 'went', 'close', 'and', 'sterling', 'had', 'efforts', 'blocked', 'but', 'in', 'the', '43rd', 'minute', 'ben', 'chilwell', 'crossed', 'into', 'the', 'box', 'and', 'found', 'his', 'england', 'teammate', 'who', 'opened', 'the', 'scoring', 'with', 'a', 'close', 'range', 'volley', 'it', 'was', 'a', 'massive', 'performance', 'sterling', 'told', 'bt', 'sport', 'we', 'had', 'to', 'dig', 'deep', 'we', 'took', 'our', 'chances', 'we', 'felt', 'as', 'a', 'team', 'we', 'could', 'do', 'it', 'i', 'had', 'a', 'little', 'miskick', 'with', 'the', 'first', 'touch', 'but', 'it', 'landed', 'perfectly', 'and', 'allowed', 'us', 'to', 'build', 'on', 'that', 'for', 'our', 'performance', 'united', 'states', 'international', 'giovanni', 'reyna', 'came', 'on', 'shortly', 'after', 'kickoff', 'of', 'the', 'first', 'half', 'after', 'julien', 'brandt', 'pulled', 'up', 'injured', 'as', 'a', 'lively', 'dortmund', 'went', 'into', 'the', 'break', 'trailing', 'chelsea', '1', '0', 'brandt', 'who', 'reached', 'for', 'his', 'hamstring', 'before', 'asking', 'to', 'be', 'subbed', 'off', 'had', 'been', 'instrumental', 'in', 'dortmund', 's', 'run', 'of', '10', 'straight', 'wins', 'in', 'all', 'competitions', 'which', 'came', 'to', 'an', 'end', 'on', 'tuesday', 'and', 'has', 'scored', 'nine', 'goals', 'so', 'far', 'this', 'season', 'for', 'marco', 'rose', 's', 'side', 'chelsea', 'players', 'celebrate', 'after', 'scoring', 'a', 'goal', 'against', 'borussia', 'dortmund', 'in', 'the', 'champions', 'league', 'getty', 'imageshavertz', 'doubled', 'chelsea', 's', 'lead', 'from', 'the', 'spot', 'but', 'needed', 'two', 'chances', 'to', 'do', 'it', 'the', 'germany', 'international', 'bounced', 'his', 'first', 'penalty', 'off', 'the', 'post', 'but', 'dortmund', 'was', 'called', 'for', 'encroachment', 'and', 'havertz', 'stepped', 'up', 'and', 'buried', 'his', 'second', 'try', 'to', 'put', 'chelsea', 'up', '2', '0', 'on', 'the', 'night', 'i', 'don', 't', 'know', 'what', 'i', 'was', 'thinking', 'when', 'it', 'hit', 'the', 'post', 'but', 'the', 'referee', 'let', 'me', 'retake', 'the', 'penalty', 'havertz', 'said', 'i', 'was', 'a', 'bit', 'nervous', 'but', 'i', 'scored', 'i', 'tried', 'to', 'wait', 'and', 'look', 'at', 'the', 'keeper', 'and', 'the', 'second', 'one', 'was', 'a', 'bit', 'easier', 'sterling', 'broke', 'free', 'on', 'goal', 'in', 'the', '75th', 'minute', 'and', 'squared', 'to', 'substitute', 'connor', 'gallagher', 'for', 'an', 'easy', 'tap', 'in', 'but', 'the', 'linesman', 's', 'flag', 'went', 'up', 'for', 'offside', 'leaving', 'chelsea', 'clinging', 'to', 'their', 'narrow', 'aggregate', 'lead', 'christian', 'pulisic', 'who', 'd', 'been', 'out', 'injured', 'since', 'jan', '5', 'was', 'brought', 'on', 'just', 'after', '80', 'minutes', 'for', 'sterling', 'while', 'ruben', 'loftus', 'cheek', 'replaced', 'mateo', 'kovacic', 'at', 'the', 'same', 'time', 'as', 'the', 'hosts', 'went', 'on', 'to', 'see', 'out', 'the', 'result', 'a', 'smiling', 'potter', 'punched', 'the', 'air', 'and', 'applauded', 'the', 'crowd', 'as', 'his', 'team', 'acknowledged', 'the', 'cheers', 'at', 'their', 'home', 'ground', 'there', 'was', 'a', 'fantastic', 'feeling', 'in', 'the', 'dressing', 'room', 'potter', 'said', 'we', 'have', 'been', 'through', 'a', 'tough', 'period', 'and', 'this', 'competition', 'means', 'a', 'lot', 'for', 'us', 'we', 'wanted', 'to', 'progress', 'and', 'get', 'into', 'the', 'last', 'eight', 'and', 'it', 'sets', 'us', 'up', 'for', 'the', 'next', 'few', 'weeks', 'the', 'former', 'brighton', 'manager', 'added', 'that', 'he', 'had', 'confidence', 'in', 'havertz', 'to', 'score', 'from', 'the', 'penalty', 'spot', 'but', 'was', 'too', 'nervous', 'to', 'watch', 'i', 'wasn', 't', 'watching', 'it', 'but', 'delighted', 'when', 'i', 'heard', 'the', 'roar', 'potter', 'said', 'taking', 'penalties', 'is', 'not', 'for', 'me', 'so', 'i', 'am', 'in', 'awe', 'of', 'anybody', 'who', 'does', 'next', 'up', 'for', 'chelsea', 'is', 'a', 'premier', 'league', 'match', 'against', 'leicester', 'city', 'on', 'saturday', 'while', 'dortmund', 'who', 'are', 'level', 'on', 'points', 'with', 'bayern', 'munich', 'atop', 'the', 'bundesliga', 'are', 'away', 'to', 'schalke', 'facebooktwitterfacebook', 'messengeremail']\n",
      "['chelsea beat borussia dortmund to reach champions league quarterfinalsplayleboeuf  kai havertz impressive on chelsea s penalty retake  1 21 frank leboeuf explains why kai havertz s composure impressed him vs  borussia dortmund   edited   1 21 facebooktwitterfacebook messengeremailmar 7  2023espnfacebooktwitterfacebook messengerpinterestemailchelsea overturned their first leg deficit with a 2 0 win over borussia dortmund at stamford bridge on tuesday night to reach the champions league quarterfinals raheem sterling smashed home a volley from the top of the 6 yard box just before half time and kai havertz scored from the penalty spot early in the second half to send graham potter s struggling chelsea past dortmund in the round of 16   olley  chelsea s win over dortmund could be potter s turning point\\n  stream on espn   laliga  bundesliga  more  u s  chelsea  who came into the match trailing 1 0 after the first leg and having scored just once in their past four games  had multiple chances go begging in the opening 45 minutes  with havertz hitting the post before the half hour and then having a beautiful strike ruled out soon after for offside in the buildup portugal loanee joao felix and defender kalidou koulibaly also went close and sterling had efforts blocked  but in the 43rd minute ben chilwell crossed into the box and found his england teammate who opened the scoring with a close range volley  it was a massive performance   sterling told bt sport   we had to dig deep  we took our chances  we felt as a team we could do it  i had a little miskick with the first touch  but it landed perfectly and allowed us to build on that for our performance  united states international giovanni reyna came on shortly after kickoff of the first half after julien brandt pulled up injured  as a lively dortmund went into the break trailing chelsea 1 0 brandt  who reached for his hamstring before asking to be subbed off  had been instrumental in dortmund s run of 10 straight wins in all competitions    which came to an end on tuesday    and has scored nine goals so far this season for marco rose s side chelsea players celebrate after scoring a goal against borussia dortmund in the champions league \\xa0getty imageshavertz doubled chelsea s lead from the spot  but needed two chances to do it  the germany international bounced his first penalty off the post  but dortmund was called for encroachment and havertz stepped up and buried his second try to put chelsea up 2 0 on the night  i don t know what i was thinking  when it hit the post   but the referee let me retake the penalty   havertz said   i was a bit nervous  but i scored  i tried to wait and look at the keeper and the second one was a bit easier  sterling broke free on goal in the 75th minute and squared to substitute connor gallagher for an easy tap in  but the linesman s flag went up for offside leaving chelsea clinging to their narrow aggregate lead christian pulisic  who d been out injured since jan  5  was brought on just after 80 minutes for sterling  while ruben loftus cheek replaced mateo kovacic at the same time as the hosts went on to see out the result a smiling potter punched the air and applauded the crowd as his team acknowledged the cheers at their home ground  there was a fantastic feeling in the dressing room   potter said   we have been through a tough period and this competition means a lot for us  we wanted to progress and get into the last eight and it sets us up for the next few weeks  the former brighton manager added that he had confidence in havertz to score from the penalty spot  but was too nervous to watch  i wasn t watching it but delighted when i heard the roar   potter said   taking penalties is not for me  so i am in awe of anybody  who does   next up for chelsea is a premier league match against leicester city on saturday  while dortmund  who are level on points with bayern munich atop the bundesliga  are away to schalke \\nfacebooktwitterfacebook messengeremail']\n"
     ]
    }
   ],
   "source": [
    "import nltk\n",
    "from nltk.probability import FreqDist\n",
    "baseline_words = nltk.word_tokenize(baseline_punct)\n",
    "baseline_sent = nltk.sent_tokenize(baseline_punct)\n",
    "print(baseline_words)\n",
    "print(baseline_sent)\n",
    "#baseline_fdist = FreqDist(baseline_tokens)\n",
    "#baseline_fdist"
   ]
  },
  {
   "cell_type": "code",
   "execution_count": 82,
   "id": "b57cf8f3",
   "metadata": {},
   "outputs": [
    {
     "name": "stdout",
     "output_type": "stream",
     "text": [
      "Note: you may need to restart the kernel to use updated packages.\n"
     ]
    }
   ],
   "source": [
    "from nltk.corpus import stopwords\n",
    "set(stopwords.words('english'))"
   ]
  },
  {
   "cell_type": "code",
   "execution_count": 90,
   "id": "234dec22",
   "metadata": {},
   "outputs": [
    {
     "name": "stdout",
     "output_type": "stream",
     "text": [
      "['chelsea', 'beat', 'borussia', 'dortmund', 'to', 'reach', 'champions', 'league', 'quarterfinalsplayleboeuf', 'kai', 'havertz', 'impressive', 'on', 'chelsea', 's', 'penalty', 'retake', '1', '21', 'frank', 'leboeuf', 'explains', 'why', 'kai', 'havertz', 's', 'composure', 'impressed', 'him', 'vs', 'borussia', 'dortmund', 'edited', '1', '21', 'facebooktwitterfacebook', 'messengeremailmar', '7', '2023espnfacebooktwitterfacebook', 'messengerpinterestemailchelsea', 'overturned', 'their', 'first', 'leg', 'deficit', 'with', 'a', '2', '0', 'win', 'over', 'borussia', 'dortmund', 'at', 'stamford', 'bridge', 'on', 'tuesday', 'night', 'to', 'reach', 'the', 'champions', 'league', 'quarterfinals', 'raheem', 'sterling', 'smashed', 'home', 'a', 'volley', 'from', 'the', 'top', 'of', 'the', '6', 'yard', 'box', 'just', 'before', 'half', 'time', 'and', 'kai', 'havertz', 'scored', 'from', 'the', 'penalty', 'spot', 'early', 'in', 'the', 'second', 'half', 'to', 'send', 'graham', 'potter', 's', 'struggling', 'chelsea', 'past', 'dortmund', 'in', 'the', 'round', 'of', '16', 'olley', 'chelsea', 's', 'win', 'over', 'dortmund', 'could', 'be', 'potter', 's', 'turning', 'point', 'stream', 'on', 'espn', 'laliga', 'bundesliga', 'more', 'u', 's', 'chelsea', 'who', 'came', 'into', 'the', 'match', 'trailing', '1', '0', 'after', 'the', 'first', 'leg', 'and', 'having', 'scored', 'just', 'once', 'in', 'their', 'past', 'four', 'games', 'had', 'multiple', 'chances', 'go', 'begging', 'in', 'the', 'opening', '45', 'minutes', 'with', 'havertz', 'hitting', 'the', 'post', 'before', 'the', 'half', 'hour', 'and', 'then', 'having', 'a', 'beautiful', 'strike', 'ruled', 'out', 'soon', 'after', 'for', 'offside', 'in', 'the', 'buildup', 'portugal', 'loanee', 'joao', 'felix', 'and', 'defender', 'kalidou', 'koulibaly', 'also', 'went', 'close', 'and', 'sterling', 'had', 'efforts', 'blocked', 'but', 'in', 'the', '43rd', 'minute', 'ben', 'chilwell', 'crossed', 'into', 'the', 'box', 'and', 'found', 'his', 'england', 'teammate', 'who', 'opened', 'the', 'scoring', 'with', 'a', 'close', 'range', 'volley', 'it', 'was', 'a', 'massive', 'performance', 'sterling', 'told', 'bt', 'sport', 'we', 'had', 'to', 'dig', 'deep', 'we', 'took', 'our', 'chances', 'we', 'felt', 'as', 'a', 'team', 'we', 'could', 'do', 'it', 'i', 'had', 'a', 'little', 'miskick', 'with', 'the', 'first', 'touch', 'but', 'it', 'landed', 'perfectly', 'and', 'allowed', 'us', 'to', 'build', 'on', 'that', 'for', 'our', 'performance', 'united', 'states', 'international', 'giovanni', 'reyna', 'came', 'on', 'shortly', 'after', 'kickoff', 'of', 'the', 'first', 'half', 'after', 'julien', 'brandt', 'pulled', 'up', 'injured', 'as', 'a', 'lively', 'dortmund', 'went', 'into', 'the', 'break', 'trailing', 'chelsea', '1', '0', 'brandt', 'who', 'reached', 'for', 'his', 'hamstring', 'before', 'asking', 'to', 'be', 'subbed', 'off', 'had', 'been', 'instrumental', 'in', 'dortmund', 's', 'run', 'of', '10', 'straight', 'wins', 'in', 'all', 'competitions', 'which', 'came', 'to', 'an', 'end', 'on', 'tuesday', 'and', 'has', 'scored', 'nine', 'goals', 'so', 'far', 'this', 'season', 'for', 'marco', 'rose', 's', 'side', 'chelsea', 'players', 'celebrate', 'after', 'scoring', 'a', 'goal', 'against', 'borussia', 'dortmund', 'in', 'the', 'champions', 'league', 'getty', 'imageshavertz', 'doubled', 'chelsea', 's', 'lead', 'from', 'the', 'spot', 'but', 'needed', 'two', 'chances', 'to', 'do', 'it', 'the', 'germany', 'international', 'bounced', 'his', 'first', 'penalty', 'off', 'the', 'post', 'but', 'dortmund', 'was', 'called', 'for', 'encroachment', 'and', 'havertz', 'stepped', 'up', 'and', 'buried', 'his', 'second', 'try', 'to', 'put', 'chelsea', 'up', '2', '0', 'on', 'the', 'night', 'i', 'don', 't', 'know', 'what', 'i', 'was', 'thinking', 'when', 'it', 'hit', 'the', 'post', 'but', 'the', 'referee', 'let', 'me', 'retake', 'the', 'penalty', 'havertz', 'said', 'i', 'was', 'a', 'bit', 'nervous', 'but', 'i', 'scored', 'i', 'tried', 'to', 'wait', 'and', 'look', 'at', 'the', 'keeper', 'and', 'the', 'second', 'one', 'was', 'a', 'bit', 'easier', 'sterling', 'broke', 'free', 'on', 'goal', 'in', 'the', '75th', 'minute', 'and', 'squared', 'to', 'substitute', 'connor', 'gallagher', 'for', 'an', 'easy', 'tap', 'in', 'but', 'the', 'linesman', 's', 'flag', 'went', 'up', 'for', 'offside', 'leaving', 'chelsea', 'clinging', 'to', 'their', 'narrow', 'aggregate', 'lead', 'christian', 'pulisic', 'who', 'd', 'been', 'out', 'injured', 'since', 'jan', '5', 'was', 'brought', 'on', 'just', 'after', '80', 'minutes', 'for', 'sterling', 'while', 'ruben', 'loftus', 'cheek', 'replaced', 'mateo', 'kovacic', 'at', 'the', 'same', 'time', 'as', 'the', 'hosts', 'went', 'on', 'to', 'see', 'out', 'the', 'result', 'a', 'smiling', 'potter', 'punched', 'the', 'air', 'and', 'applauded', 'the', 'crowd', 'as', 'his', 'team', 'acknowledged', 'the', 'cheers', 'at', 'their', 'home', 'ground', 'there', 'was', 'a', 'fantastic', 'feeling', 'in', 'the', 'dressing', 'room', 'potter', 'said', 'we', 'have', 'been', 'through', 'a', 'tough', 'period', 'and', 'this', 'competition', 'means', 'a', 'lot', 'for', 'us', 'we', 'wanted', 'to', 'progress', 'and', 'get', 'into', 'the', 'last', 'eight', 'and', 'it', 'sets', 'us', 'up', 'for', 'the', 'next', 'few', 'weeks', 'the', 'former', 'brighton', 'manager', 'added', 'that', 'he', 'had', 'confidence', 'in', 'havertz', 'to', 'score', 'from', 'the', 'penalty', 'spot', 'but', 'was', 'too', 'nervous', 'to', 'watch', 'i', 'wasn', 't', 'watching', 'it', 'but', 'delighted', 'when', 'i', 'heard', 'the', 'roar', 'potter', 'said', 'taking', 'penalties', 'is', 'not', 'for', 'me', 'so', 'i', 'am', 'in', 'awe', 'of', 'anybody', 'who', 'does', 'next', 'up', 'for', 'chelsea', 'is', 'a', 'premier', 'league', 'match', 'against', 'leicester', 'city', 'on', 'saturday', 'while', 'dortmund', 'who', 'are', 'level', 'on', 'points', 'with', 'bayern', 'munich', 'atop', 'the', 'bundesliga', 'are', 'away', 'to', 'schalke', 'facebooktwitterfacebook', 'messengeremail']\n"
     ]
    }
   ],
   "source": [
    "from nltk.corpus import stopwords\n",
    "from nltk.tokenize import word_tokenize\n",
    "stop_words_array = set(stopwords.words('english'))\n",
    "words = word_tokenize(baseline_punct)\n",
    "filtered_sentence =  []\n",
    "for w in words:\n",
    "    if w not in stop_words_array:\n",
    "        filtered_sentence.append(w)\n",
    "print(words)"
   ]
  },
  {
   "cell_type": "code",
   "execution_count": 93,
   "id": "7f699ed2",
   "metadata": {},
   "outputs": [
    {
     "name": "stdout",
     "output_type": "stream",
     "text": [
      "AFTER REMOVING STOPWORDS\n",
      "['chelsea', 'beat', 'borussia', 'dortmund', 'reach', 'champions', 'league', 'quarterfinalsplayleboeuf', 'kai', 'havertz', 'impressive', 'chelsea', 'penalty', 'retake', '1', '21', 'frank', 'leboeuf', 'explains', 'kai', 'havertz', 'composure', 'impressed', 'vs', 'borussia', 'dortmund', 'edited', '1', '21', 'facebooktwitterfacebook', 'messengeremailmar', '7', '2023espnfacebooktwitterfacebook', 'messengerpinterestemailchelsea', 'overturned', 'first', 'leg', 'deficit', '2', '0', 'win', 'borussia', 'dortmund', 'stamford', 'bridge', 'tuesday', 'night', 'reach', 'champions', 'league', 'quarterfinals', 'raheem', 'sterling', 'smashed', 'home', 'volley', 'top', '6', 'yard', 'box', 'half', 'time', 'kai', 'havertz', 'scored', 'penalty', 'spot', 'early', 'second', 'half', 'send', 'graham', 'potter', 'struggling', 'chelsea', 'past', 'dortmund', 'round', '16', 'olley', 'chelsea', 'win', 'dortmund', 'could', 'potter', 'turning', 'point', 'stream', 'espn', 'laliga', 'bundesliga', 'u', 'chelsea', 'came', 'match', 'trailing', '1', '0', 'first', 'leg', 'scored', 'past', 'four', 'games', 'multiple', 'chances', 'go', 'begging', 'opening', '45', 'minutes', 'havertz', 'hitting', 'post', 'half', 'hour', 'beautiful', 'strike', 'ruled', 'soon', 'offside', 'buildup', 'portugal', 'loanee', 'joao', 'felix', 'defender', 'kalidou', 'koulibaly', 'also', 'went', 'close', 'sterling', 'efforts', 'blocked', '43rd', 'minute', 'ben', 'chilwell', 'crossed', 'box', 'found', 'england', 'teammate', 'opened', 'scoring', 'close', 'range', 'volley', 'massive', 'performance', 'sterling', 'told', 'bt', 'sport', 'dig', 'deep', 'took', 'chances', 'felt', 'team', 'could', 'little', 'miskick', 'first', 'touch', 'landed', 'perfectly', 'allowed', 'us', 'build', 'performance', 'united', 'states', 'international', 'giovanni', 'reyna', 'came', 'shortly', 'kickoff', 'first', 'half', 'julien', 'brandt', 'pulled', 'injured', 'lively', 'dortmund', 'went', 'break', 'trailing', 'chelsea', '1', '0', 'brandt', 'reached', 'hamstring', 'asking', 'subbed', 'instrumental', 'dortmund', 'run', '10', 'straight', 'wins', 'competitions', 'came', 'end', 'tuesday', 'scored', 'nine', 'goals', 'far', 'season', 'marco', 'rose', 'side', 'chelsea', 'players', 'celebrate', 'scoring', 'goal', 'borussia', 'dortmund', 'champions', 'league', 'getty', 'imageshavertz', 'doubled', 'chelsea', 'lead', 'spot', 'needed', 'two', 'chances', 'germany', 'international', 'bounced', 'first', 'penalty', 'post', 'dortmund', 'called', 'encroachment', 'havertz', 'stepped', 'buried', 'second', 'try', 'put', 'chelsea', '2', '0', 'night', 'know', 'thinking', 'hit', 'post', 'referee', 'let', 'retake', 'penalty', 'havertz', 'said', 'bit', 'nervous', 'scored', 'tried', 'wait', 'look', 'keeper', 'second', 'one', 'bit', 'easier', 'sterling', 'broke', 'free', 'goal', '75th', 'minute', 'squared', 'substitute', 'connor', 'gallagher', 'easy', 'tap', 'linesman', 'flag', 'went', 'offside', 'leaving', 'chelsea', 'clinging', 'narrow', 'aggregate', 'lead', 'christian', 'pulisic', 'injured', 'since', 'jan', '5', 'brought', '80', 'minutes', 'sterling', 'ruben', 'loftus', 'cheek', 'replaced', 'mateo', 'kovacic', 'time', 'hosts', 'went', 'see', 'result', 'smiling', 'potter', 'punched', 'air', 'applauded', 'crowd', 'team', 'acknowledged', 'cheers', 'home', 'ground', 'fantastic', 'feeling', 'dressing', 'room', 'potter', 'said', 'tough', 'period', 'competition', 'means', 'lot', 'us', 'wanted', 'progress', 'get', 'last', 'eight', 'sets', 'us', 'next', 'weeks', 'former', 'brighton', 'manager', 'added', 'confidence', 'havertz', 'score', 'penalty', 'spot', 'nervous', 'watch', 'watching', 'delighted', 'heard', 'roar', 'potter', 'said', 'taking', 'penalties', 'awe', 'anybody', 'next', 'chelsea', 'premier', 'league', 'match', 'leicester', 'city', 'saturday', 'dortmund', 'level', 'points', 'bayern', 'munich', 'atop', 'bundesliga', 'away', 'schalke', 'facebooktwitterfacebook', 'messengeremail']\n"
     ]
    }
   ],
   "source": [
    "print(\"AFTER REMOVING STOPWORDS\")\n",
    "print(filtered_sentence)"
   ]
  },
  {
   "cell_type": "code",
   "execution_count": 108,
   "id": "73ccf53b",
   "metadata": {},
   "outputs": [
    {
     "name": "stderr",
     "output_type": "stream",
     "text": [
      "[nltk_data] Downloading package vader_lexicon to\n",
      "[nltk_data]     /Users/rezwanrahman/nltk_data...\n"
     ]
    },
    {
     "data": {
      "text/plain": [
       "True"
      ]
     },
     "execution_count": 108,
     "metadata": {},
     "output_type": "execute_result"
    }
   ],
   "source": [
    "import nltk\n",
    "nltk.downloader.download('vader_lexicon')"
   ]
  },
  {
   "cell_type": "code",
   "execution_count": 114,
   "id": "c7f41ebb",
   "metadata": {},
   "outputs": [
    {
     "data": {
      "text/plain": [
       "'chelsea beat borussia dortmund reach champions league quarterfinalsplayleboeuf kai havertz impressive chelsea penalty retake 1 21 frank leboeuf explains kai havertz composure impressed vs borussia dortmund edited 1 21 facebooktwitterfacebook messengeremailmar 7 2023espnfacebooktwitterfacebook messengerpinterestemailchelsea overturned first leg deficit 2 0 win borussia dortmund stamford bridge tuesday night reach champions league quarterfinals raheem sterling smashed home volley top 6 yard box half time kai havertz scored penalty spot early second half send graham potter struggling chelsea past dortmund round 16 olley chelsea win dortmund could potter turning point stream espn laliga bundesliga u chelsea came match trailing 1 0 first leg scored past four games multiple chances go begging opening 45 minutes havertz hitting post half hour beautiful strike ruled soon offside buildup portugal loanee joao felix defender kalidou koulibaly also went close sterling efforts blocked 43rd minute ben chilwell crossed box found england teammate opened scoring close range volley massive performance sterling told bt sport dig deep took chances felt team could little miskick first touch landed perfectly allowed us build performance united states international giovanni reyna came shortly kickoff first half julien brandt pulled injured lively dortmund went break trailing chelsea 1 0 brandt reached hamstring asking subbed instrumental dortmund run 10 straight wins competitions came end tuesday scored nine goals far season marco rose side chelsea players celebrate scoring goal borussia dortmund champions league getty imageshavertz doubled chelsea lead spot needed two chances germany international bounced first penalty post dortmund called encroachment havertz stepped buried second try put chelsea 2 0 night know thinking hit post referee let retake penalty havertz said bit nervous scored tried wait look keeper second one bit easier sterling broke free goal 75th minute squared substitute connor gallagher easy tap linesman flag went offside leaving chelsea clinging narrow aggregate lead christian pulisic injured since jan 5 brought 80 minutes sterling ruben loftus cheek replaced mateo kovacic time hosts went see result smiling potter punched air applauded crowd team acknowledged cheers home ground fantastic feeling dressing room potter said tough period competition means lot us wanted progress get last eight sets us next weeks former brighton manager added confidence havertz score penalty spot nervous watch watching delighted heard roar potter said taking penalties awe anybody next chelsea premier league match leicester city saturday dortmund level points bayern munich atop bundesliga away schalke facebooktwitterfacebook messengeremail'"
      ]
     },
     "execution_count": 114,
     "metadata": {},
     "output_type": "execute_result"
    }
   ],
   "source": [
    "from nltk.tokenize.treebank import TreebankWordDetokenizer\n",
    "Final_Baseline = TreebankWordDetokenizer().detokenize(filtered_sentence)\n",
    "Final_Baseline"
   ]
  },
  {
   "cell_type": "code",
   "execution_count": 115,
   "id": "fdd557bc",
   "metadata": {},
   "outputs": [
    {
     "data": {
      "text/plain": [
       "{'neg': 0.083, 'neu': 0.717, 'pos': 0.2, 'compound': 0.9941}"
      ]
     },
     "execution_count": 115,
     "metadata": {},
     "output_type": "execute_result"
    }
   ],
   "source": [
    "from nltk.sentiment import SentimentIntensityAnalyzer\n",
    "sia = SentimentIntensityAnalyzer()\n",
    "sia.polarity_scores(Final_Baseline)"
   ]
  },
  {
   "cell_type": "code",
   "execution_count": 116,
   "id": "44f6d67e",
   "metadata": {},
   "outputs": [
    {
     "data": {
      "text/plain": [
       "{'neg': 0.051, 'neu': 0.819, 'pos': 0.13, 'compound': 0.9954}"
      ]
     },
     "execution_count": 116,
     "metadata": {},
     "output_type": "execute_result"
    }
   ],
   "source": [
    "#Lets take a look at our original raw polarity score\n",
    "sia = SentimentIntensityAnalyzer()\n",
    "sia.polarity_scores(Baseline_text)"
   ]
  },
  {
   "cell_type": "code",
   "execution_count": null,
   "id": "78db6f6a",
   "metadata": {},
   "outputs": [],
   "source": []
  }
 ],
 "metadata": {
  "kernelspec": {
   "display_name": "Python 3 (ipykernel)",
   "language": "python",
   "name": "python3"
  },
  "language_info": {
   "codemirror_mode": {
    "name": "ipython",
    "version": 3
   },
   "file_extension": ".py",
   "mimetype": "text/x-python",
   "name": "python",
   "nbconvert_exporter": "python",
   "pygments_lexer": "ipython3",
   "version": "3.9.13"
  }
 },
 "nbformat": 4,
 "nbformat_minor": 5
}
